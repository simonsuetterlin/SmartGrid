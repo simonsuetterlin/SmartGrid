{
 "cells": [
  {
   "cell_type": "markdown",
   "id": "973e3f87-638c-44ea-9f9a-5f51054d3b42",
   "metadata": {},
   "source": [
    "# Neuer Datensatz\n",
    "Data from https://www.kaggle.com/datasets/jeanmidev/smart-meters-in-london"
   ]
  },
  {
   "cell_type": "code",
   "execution_count": 1,
   "id": "2e3c1fa4-05ee-4c87-9252-0599751d590f",
   "metadata": {},
   "outputs": [],
   "source": [
    "import pandas as pd\n",
    "import numpy as np\n",
    "import scipy.stats as ss\n",
    "import matplotlib.pyplot as plt\n",
    "import mchmm as mc"
   ]
  },
  {
   "cell_type": "markdown",
   "id": "51a53ecd-404d-4401-92e3-e90a3cb69ad1",
   "metadata": {},
   "source": [
    "## Load files"
   ]
  },
  {
   "cell_type": "code",
   "execution_count": 2,
   "id": "c31e2f1f-1718-437c-927b-bb3fc7aa5916",
   "metadata": {},
   "outputs": [],
   "source": [
    "filename1 = \"data/london_hourly/block_10.csv\"\n",
    "filename2 = \"data/london_hourly/block_11.csv\"\n",
    "filename3 = \"data/london_hourly/block_12.csv\"\n",
    "names = [filename1, filename2, filename3]\n",
    "\n",
    "frame_types = dict(zip(['LCLid', 'tstp', 'energy(kWh/hh)'], [str, object, np.floating]))\n",
    "kwargs = {\n",
    "    'dtype': frame_types,\n",
    "    'na_values': {'Null'}\n",
    "}\n",
    "dataframes = (pd.read_csv(name, **kwargs) for name in names)\n",
    "data = pd.concat(dataframes, ignore_index=True)\n",
    "data.fillna(0);\n",
    "data['energy(kWh/hh)'] = data['energy(kWh/hh)'].replace(np.nan, 0)\n",
    "\n",
    "# create a list from each energy meter\n",
    "values = data.groupby('LCLid')['energy(kWh/hh)'].apply(list)\n",
    "timepoints = data.groupby('LCLid')['tstp'].apply(list)"
   ]
  },
  {
   "cell_type": "code",
   "execution_count": 3,
   "id": "9a939c17-b411-4370-a886-316ce0abcc4c",
   "metadata": {},
   "outputs": [],
   "source": [
    "# start um 12 a clock\n",
    "start_index = []\n",
    "for timepoint in timepoints:\n",
    "    for i in range(len(timepoint)):\n",
    "        if timepoint[i][11:16] == '12:00':\n",
    "            start_index.append(i)\n",
    "            break\n",
    "new_values = [values[i][start_index[i]:] for i in range(len(values))]\n",
    "new_timepoints = [timepoints[i][start_index[i]:] for i in range(len(timepoints))]\n",
    "\n",
    "# remove meters that have less then 25000 entries\n",
    "min_length = 25000\n",
    "new_values_with_certain_length = [new_values[i] for i in range(len(new_values)) if len(new_values[i]) > min_length]\n",
    "new_timepoints_with_certain_length = [new_timepoints[i] for i in range(len(new_timepoints)) if len(new_timepoints[i]) > min_length]\n",
    "\n",
    "# convert to float\n",
    "new_values_float = list(map(lambda x: list(map(float, x)), new_values_with_certain_length))\n",
    "# sum over all meaters at the same timepoint\n",
    "summed_values_float = np.array([sum(new_values_float[i][k] for i in range(len(new_values_float))) for k in range(min_length)])\n",
    "\n",
    "# scale list\n",
    "max_v = 20\n",
    "max_summed_values = max(summed_values_float)\n",
    "summed_values_scaled = np.array([max_v * summed_values_float[i]/ max_summed_values for i in range(len(summed_values_float))])\n",
    "\n",
    "# convert to int\n",
    "summed_values_scaled_int =  summed_values_scaled.astype(int)"
   ]
  },
  {
   "cell_type": "markdown",
   "id": "ae0c3e8a-0971-43d4-8057-fbb6d18a8d91",
   "metadata": {},
   "source": [
    "## Initialize markov chain"
   ]
  },
  {
   "cell_type": "code",
   "execution_count": 4,
   "id": "f6a60355-bbc6-4572-8481-4ad7e8259631",
   "metadata": {},
   "outputs": [],
   "source": [
    "chain = mc.MarkovChain().from_data(summed_values_scaled_int)"
   ]
  },
  {
   "cell_type": "code",
   "execution_count": 43,
   "id": "8c8bcb1c-1bb0-4bde-a082-6b0c95b0c381",
   "metadata": {},
   "outputs": [
    {
     "data": {
      "text/plain": [
       "[<matplotlib.lines.Line2D at 0x7fb84cffaa00>]"
      ]
     },
     "execution_count": 43,
     "metadata": {},
     "output_type": "execute_result"
    }
   ],
   "source": [
    "fig = plt.figure(figsize=(20, 10), dpi=80)\n",
    "plt.plot(chain.simulate(n=1000, start=5, ret=\"states\"))"
   ]
  },
  {
   "cell_type": "code",
   "execution_count": 14,
   "id": "0838f0b7-6b68-476d-b33d-157df8896b96",
   "metadata": {},
   "outputs": [
    {
     "data": {
      "text/plain": [
       "141"
      ]
     },
     "execution_count": 14,
     "metadata": {},
     "output_type": "execute_result"
    }
   ],
   "source": [
    "len(new_values_float)"
   ]
  },
  {
   "cell_type": "code",
   "execution_count": null,
   "id": "b615e3b9-81e7-467d-bcc5-e2a25b40db51",
   "metadata": {},
   "outputs": [],
   "source": []
  },
  {
   "cell_type": "code",
   "execution_count": 12,
   "id": "cd4de2ee-8e1a-46a2-bad3-ee0055a7b917",
   "metadata": {},
   "outputs": [
    {
     "data": {
      "text/plain": [
       "array([45.2060002, 36.7889998, 37.4870001, 39.4699999, 38.7099999,\n",
       "       42.2040002, 41.2960001, 43.454    , 42.9719998, 46.273    ,\n",
       "       49.7339998, 52.694    , 57.3090001, 58.7709999, 56.1169999,\n",
       "       55.1519999, 54.43     , 52.199    , 49.0160001, 48.6340002,\n",
       "       47.3590001, 41.8180001, 34.8369999, 30.2139999, 33.5370001,\n",
       "       32.322    , 28.0590001, 25.927    , 24.3719998, 23.801    ,\n",
       "       23.306    , 23.0140001, 22.4889999, 22.186    , 23.603    ,\n",
       "       27.1949999, 33.9200001, 35.3579999, 33.862    , 37.0520001,\n",
       "       41.6369999, 39.0110001, 38.8659999, 37.5360001, 34.4219999,\n",
       "       33.7409999, 34.1909999, 35.0680002, 34.0009999])"
      ]
     },
     "execution_count": 12,
     "metadata": {},
     "output_type": "execute_result"
    }
   ],
   "source": [
    "summed_values_float[1:50]"
   ]
  },
  {
   "cell_type": "code",
   "execution_count": 6,
   "id": "c5e4825a-75e6-4c1d-a7c6-8d8b87a2f6a6",
   "metadata": {},
   "outputs": [
    {
     "data": {
      "text/html": [
       "<div>\n",
       "<style scoped>\n",
       "    .dataframe tbody tr th:only-of-type {\n",
       "        vertical-align: middle;\n",
       "    }\n",
       "\n",
       "    .dataframe tbody tr th {\n",
       "        vertical-align: top;\n",
       "    }\n",
       "\n",
       "    .dataframe thead th {\n",
       "        text-align: right;\n",
       "    }\n",
       "</style>\n",
       "<table border=\"1\" class=\"dataframe\">\n",
       "  <thead>\n",
       "    <tr style=\"text-align: right;\">\n",
       "      <th></th>\n",
       "      <th>LCLid</th>\n",
       "      <th>tstp</th>\n",
       "      <th>energy(kWh/hh)</th>\n",
       "    </tr>\n",
       "  </thead>\n",
       "  <tbody>\n",
       "    <tr>\n",
       "      <th>0</th>\n",
       "      <td>MAC000322</td>\n",
       "      <td>2012-03-06 12:30:00.0000000</td>\n",
       "      <td>0.000</td>\n",
       "    </tr>\n",
       "    <tr>\n",
       "      <th>1</th>\n",
       "      <td>MAC000322</td>\n",
       "      <td>2012-03-06 13:30:00.0000000</td>\n",
       "      <td>0.067</td>\n",
       "    </tr>\n",
       "    <tr>\n",
       "      <th>2</th>\n",
       "      <td>MAC000322</td>\n",
       "      <td>2012-03-06 14:00:00.0000000</td>\n",
       "      <td>0.060</td>\n",
       "    </tr>\n",
       "    <tr>\n",
       "      <th>3</th>\n",
       "      <td>MAC000322</td>\n",
       "      <td>2012-03-06 14:30:00.0000000</td>\n",
       "      <td>0.082</td>\n",
       "    </tr>\n",
       "    <tr>\n",
       "      <th>4</th>\n",
       "      <td>MAC000322</td>\n",
       "      <td>2012-03-06 15:00:00.0000000</td>\n",
       "      <td>0.052</td>\n",
       "    </tr>\n",
       "    <tr>\n",
       "      <th>...</th>\n",
       "      <td>...</td>\n",
       "      <td>...</td>\n",
       "      <td>...</td>\n",
       "    </tr>\n",
       "    <tr>\n",
       "      <th>4676602</th>\n",
       "      <td>MAC005399</td>\n",
       "      <td>2014-02-27 22:00:00.0000000</td>\n",
       "      <td>0.121</td>\n",
       "    </tr>\n",
       "    <tr>\n",
       "      <th>4676603</th>\n",
       "      <td>MAC005399</td>\n",
       "      <td>2014-02-27 22:30:00.0000000</td>\n",
       "      <td>0.033</td>\n",
       "    </tr>\n",
       "    <tr>\n",
       "      <th>4676604</th>\n",
       "      <td>MAC005399</td>\n",
       "      <td>2014-02-27 23:00:00.0000000</td>\n",
       "      <td>0.066</td>\n",
       "    </tr>\n",
       "    <tr>\n",
       "      <th>4676605</th>\n",
       "      <td>MAC005399</td>\n",
       "      <td>2014-02-27 23:30:00.0000000</td>\n",
       "      <td>0.082</td>\n",
       "    </tr>\n",
       "    <tr>\n",
       "      <th>4676606</th>\n",
       "      <td>MAC005399</td>\n",
       "      <td>2014-02-28 00:00:00.0000000</td>\n",
       "      <td>0.140</td>\n",
       "    </tr>\n",
       "  </tbody>\n",
       "</table>\n",
       "<p>4676607 rows × 3 columns</p>\n",
       "</div>"
      ],
      "text/plain": [
       "             LCLid                         tstp  energy(kWh/hh)\n",
       "0        MAC000322  2012-03-06 12:30:00.0000000           0.000\n",
       "1        MAC000322  2012-03-06 13:30:00.0000000           0.067\n",
       "2        MAC000322  2012-03-06 14:00:00.0000000           0.060\n",
       "3        MAC000322  2012-03-06 14:30:00.0000000           0.082\n",
       "4        MAC000322  2012-03-06 15:00:00.0000000           0.052\n",
       "...            ...                          ...             ...\n",
       "4676602  MAC005399  2014-02-27 22:00:00.0000000           0.121\n",
       "4676603  MAC005399  2014-02-27 22:30:00.0000000           0.033\n",
       "4676604  MAC005399  2014-02-27 23:00:00.0000000           0.066\n",
       "4676605  MAC005399  2014-02-27 23:30:00.0000000           0.082\n",
       "4676606  MAC005399  2014-02-28 00:00:00.0000000           0.140\n",
       "\n",
       "[4676607 rows x 3 columns]"
      ]
     },
     "execution_count": 6,
     "metadata": {},
     "output_type": "execute_result"
    }
   ],
   "source": [
    "data"
   ]
  },
  {
   "cell_type": "code",
   "execution_count": null,
   "id": "ab18a3d4-4338-42c2-9e11-0398c35f8cad",
   "metadata": {},
   "outputs": [],
   "source": []
  }
 ],
 "metadata": {
  "kernelspec": {
   "display_name": "Python 3 (ipykernel)",
   "language": "python",
   "name": "python3"
  },
  "language_info": {
   "codemirror_mode": {
    "name": "ipython",
    "version": 3
   },
   "file_extension": ".py",
   "mimetype": "text/x-python",
   "name": "python",
   "nbconvert_exporter": "python",
   "pygments_lexer": "ipython3",
   "version": "3.8.3"
  },
  "vscode": {
   "interpreter": {
    "hash": "96762580dc771c728ac9a1b8aa29a3a420bc09545a8c1a32553175fbb1f6eb2a"
   }
  }
 },
 "nbformat": 4,
 "nbformat_minor": 5
}
