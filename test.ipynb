{
 "cells": [
  {
   "cell_type": "code",
   "execution_count": 17,
   "metadata": {},
   "outputs": [],
   "source": [
    "from rk4step import rk4step\n",
    "import numpy as np\n",
    "import casadi as ca"
   ]
  },
  {
   "cell_type": "code",
   "execution_count": 19,
   "metadata": {},
   "outputs": [],
   "source": [
    "Ts = .5\n",
    "N = 19\n",
    "x0 = np.array([0])\n",
    "t_grid = np.linspace(0, Ts*N, N+1)\n",
    "t_span = [0, Ts*N]\n",
    "t0 = 0"
   ]
  },
  {
   "cell_type": "code",
   "execution_count": 21,
   "metadata": {},
   "outputs": [],
   "source": [
    "k = ca.MX.sym('k',1)\n",
    "x = ca.MX.sym('x',2)\n",
    "u = ca.MX.sym('u',1)\n",
    "w = ca.MX.sym('w',1)"
   ]
  },
  {
   "cell_type": "markdown",
   "metadata": {},
   "source": [
    "k = ca.MX.sym('k',1)\n",
    "x = ca.MX.sym('x',2)\n",
    "u = ca.MX.sym('u',1)\n",
    "w = ca.MX.sym('w',1)"
   ]
  },
  {
   "cell_type": "code",
   "execution_count": 16,
   "metadata": {},
   "outputs": [],
   "source": [
    "P_e = 10\n",
    "P_i = 5\n",
    "C = 50\n",
    "M = 5\n",
    "\n",
    "def V(w):\n",
    "    return w * C \n",
    "\n",
    "def O_i(k, O_i_prev, u):\n",
    "    return O_i_prev + u * M * k\n",
    "\n",
    "def O_e(k, w, O_i_prev, u):\n",
    "    return ca.max(V(w) - O_i(k, O_i_prev, u), 0)\n",
    "\n",
    "def L_e(k, w, x, u):\n",
    "    return P_e * O_e(k, w, x[0], u)\n",
    "\n",
    "def L_i(k, x, u):\n",
    "    P_i * O_i(k, x[0], u)\n",
    "\n",
    "#L_e = ca.Function('L_e', [k, w, x, u], [L_e])\n"
   ]
  },
  {
   "cell_type": "code",
   "execution_count": 20,
   "metadata": {},
   "outputs": [
    {
     "ename": "TypeError",
     "evalue": "L_e() missing 2 required positional arguments: 'x' and 'u'",
     "output_type": "error",
     "traceback": [
      "\u001b[0;31m---------------------------------------------------------------------------\u001b[0m",
      "\u001b[0;31mTypeError\u001b[0m                                 Traceback (most recent call last)",
      "\u001b[0;32m/var/folders/tg/mc3m1mgs7yn6nbwlr7tzqxt80000gn/T/ipykernel_76203/1690066379.py\u001b[0m in \u001b[0;36m<cell line: 7>\u001b[0;34m()\u001b[0m\n\u001b[1;32m      6\u001b[0m \u001b[0mX_rk4\u001b[0m\u001b[0;34m[\u001b[0m\u001b[0;34m:\u001b[0m\u001b[0;34m,\u001b[0m\u001b[0;36m0\u001b[0m\u001b[0;34m]\u001b[0m \u001b[0;34m=\u001b[0m \u001b[0mx0\u001b[0m\u001b[0;34m\u001b[0m\u001b[0;34m\u001b[0m\u001b[0m\n\u001b[1;32m      7\u001b[0m \u001b[0;32mfor\u001b[0m \u001b[0mk\u001b[0m \u001b[0;32min\u001b[0m \u001b[0mrange\u001b[0m\u001b[0;34m(\u001b[0m\u001b[0;36m1\u001b[0m\u001b[0;34m,\u001b[0m \u001b[0mlen\u001b[0m\u001b[0;34m(\u001b[0m\u001b[0mt_grid\u001b[0m\u001b[0;34m)\u001b[0m\u001b[0;34m)\u001b[0m\u001b[0;34m:\u001b[0m\u001b[0;34m\u001b[0m\u001b[0;34m\u001b[0m\u001b[0m\n\u001b[0;32m----> 8\u001b[0;31m     \u001b[0mX_rk4\u001b[0m\u001b[0;34m[\u001b[0m\u001b[0;34m:\u001b[0m\u001b[0;34m,\u001b[0m\u001b[0mk\u001b[0m\u001b[0;34m]\u001b[0m \u001b[0;34m=\u001b[0m \u001b[0mrk4step\u001b[0m\u001b[0;34m(\u001b[0m\u001b[0mL_e\u001b[0m\u001b[0;34m,\u001b[0m \u001b[0mTs\u001b[0m\u001b[0;34m,\u001b[0m  \u001b[0mX_rk4\u001b[0m\u001b[0;34m[\u001b[0m\u001b[0;34m:\u001b[0m\u001b[0;34m,\u001b[0m\u001b[0mk\u001b[0m\u001b[0;34m-\u001b[0m\u001b[0;36m1\u001b[0m\u001b[0;34m]\u001b[0m\u001b[0;34m,\u001b[0m \u001b[0mt0\u001b[0m\u001b[0;34m)\u001b[0m\u001b[0;34m.\u001b[0m\u001b[0mfull\u001b[0m\u001b[0;34m(\u001b[0m\u001b[0;34m)\u001b[0m\u001b[0;34m.\u001b[0m\u001b[0mflatten\u001b[0m\u001b[0;34m(\u001b[0m\u001b[0;34m)\u001b[0m\u001b[0;34m\u001b[0m\u001b[0;34m\u001b[0m\u001b[0m\n\u001b[0m",
      "\u001b[0;32m~/OneDrive - bwedu/Kurse/Mathe/Numerical Optimal Control/SmartGrid/rk4step.py\u001b[0m in \u001b[0;36mrk4step\u001b[0;34m(ode, h, x0, t0)\u001b[0m\n\u001b[1;32m      1\u001b[0m \u001b[0;32mdef\u001b[0m \u001b[0mrk4step\u001b[0m\u001b[0;34m(\u001b[0m\u001b[0mode\u001b[0m\u001b[0;34m,\u001b[0m \u001b[0mh\u001b[0m\u001b[0;34m,\u001b[0m \u001b[0mx0\u001b[0m\u001b[0;34m,\u001b[0m \u001b[0mt0\u001b[0m\u001b[0;34m)\u001b[0m\u001b[0;34m:\u001b[0m\u001b[0;34m\u001b[0m\u001b[0;34m\u001b[0m\u001b[0m\n\u001b[1;32m      2\u001b[0m \u001b[0;34m\u001b[0m\u001b[0m\n\u001b[0;32m----> 3\u001b[0;31m     \u001b[0mk1\u001b[0m \u001b[0;34m=\u001b[0m \u001b[0mode\u001b[0m\u001b[0;34m(\u001b[0m\u001b[0mt0\u001b[0m\u001b[0;34m,\u001b[0m \u001b[0mx0\u001b[0m\u001b[0;34m)\u001b[0m\u001b[0;34m\u001b[0m\u001b[0;34m\u001b[0m\u001b[0m\n\u001b[0m\u001b[1;32m      4\u001b[0m     \u001b[0mk2\u001b[0m \u001b[0;34m=\u001b[0m \u001b[0mode\u001b[0m\u001b[0;34m(\u001b[0m\u001b[0mt0\u001b[0m \u001b[0;34m+\u001b[0m \u001b[0mh\u001b[0m\u001b[0;34m/\u001b[0m\u001b[0;36m2\u001b[0m\u001b[0;34m,\u001b[0m \u001b[0mx0\u001b[0m \u001b[0;34m+\u001b[0m \u001b[0mh\u001b[0m\u001b[0;34m/\u001b[0m\u001b[0;36m2\u001b[0m \u001b[0;34m*\u001b[0m \u001b[0mk1\u001b[0m\u001b[0;34m)\u001b[0m\u001b[0;34m\u001b[0m\u001b[0;34m\u001b[0m\u001b[0m\n\u001b[1;32m      5\u001b[0m     \u001b[0mk3\u001b[0m \u001b[0;34m=\u001b[0m \u001b[0mode\u001b[0m\u001b[0;34m(\u001b[0m\u001b[0mt0\u001b[0m \u001b[0;34m+\u001b[0m \u001b[0mh\u001b[0m\u001b[0;34m/\u001b[0m\u001b[0;36m2\u001b[0m\u001b[0;34m,\u001b[0m \u001b[0mx0\u001b[0m \u001b[0;34m+\u001b[0m \u001b[0mh\u001b[0m\u001b[0;34m/\u001b[0m\u001b[0;36m2\u001b[0m \u001b[0;34m*\u001b[0m \u001b[0mk2\u001b[0m\u001b[0;34m)\u001b[0m\u001b[0;34m\u001b[0m\u001b[0;34m\u001b[0m\u001b[0m\n",
      "\u001b[0;31mTypeError\u001b[0m: L_e() missing 2 required positional arguments: 'x' and 'u'"
     ]
    }
   ],
   "source": [
    "X_rk4 = np.zeros((x0.size, N+1))\n",
    "X_rk4[:,0] = x0\n",
    "for k in range(1, len(t_grid)):\n",
    "    X_rk4[:,k] = rk4step(L_e, Ts,  X_rk4[:,k-1], t0).full().flatten()"
   ]
  },
  {
   "cell_type": "code",
   "execution_count": 13,
   "metadata": {},
   "outputs": [
    {
     "data": {
      "text/plain": [
       "array([-0.38768787,  0.00873917])"
      ]
     },
     "execution_count": 13,
     "metadata": {},
     "output_type": "execute_result"
    }
   ],
   "source": [
    "X_rk4[:,-1]"
   ]
  },
  {
   "cell_type": "code",
   "execution_count": null,
   "metadata": {},
   "outputs": [],
   "source": []
  },
  {
   "cell_type": "code",
   "execution_count": null,
   "metadata": {},
   "outputs": [],
   "source": []
  },
  {
   "cell_type": "code",
   "execution_count": null,
   "metadata": {},
   "outputs": [],
   "source": []
  },
  {
   "cell_type": "markdown",
   "metadata": {},
   "source": [
    "# berechne step_cost_to_go"
   ]
  },
  {
   "cell_type": "code",
   "execution_count": null,
   "metadata": {},
   "outputs": [],
   "source": [
    "M = Tiefe x O x V # matrix\n",
    "for i in range(Tiefe, 0):\n",
    "    if (i == Tiefe): #erster step\n",
    "        berechne M[Tiefe-1, :, :]\n",
    "    else:\n",
    "        berechne M[i,:,:] in abhängigkeit von M[i+1,:,:]\n",
    "\n",
    "step_cost_to_go = M[0;.,:]"
   ]
  },
  {
   "cell_type": "markdown",
   "metadata": {},
   "source": [
    "# berechne optimalen schritt"
   ]
  },
  {
   "cell_type": "code",
   "execution_count": null,
   "metadata": {},
   "outputs": [],
   "source": [
    "x0 = ...\n",
    "for u in U:\n",
    "    array += kosten_für_step(x0, u) + Erwartungswert(step_cost_to_go[f(x0,u)])\n",
    "step_u = min(array)"
   ]
  },
  {
   "cell_type": "code",
   "execution_count": 139,
   "metadata": {},
   "outputs": [],
   "source": [
    "A = np.ones(2, dtype=int)"
   ]
  },
  {
   "cell_type": "code",
   "execution_count": 141,
   "metadata": {},
   "outputs": [
    {
     "data": {
      "text/plain": [
       "array([1, 1])"
      ]
     },
     "execution_count": 141,
     "metadata": {},
     "output_type": "execute_result"
    }
   ],
   "source": [
    "A[0:]"
   ]
  },
  {
   "cell_type": "code",
   "execution_count": 40,
   "metadata": {},
   "outputs": [
    {
     "name": "stdout",
     "output_type": "stream",
     "text": [
      "[[ 0  0  0  0  0]\n",
      " [-1 -1 -1 -1 -1]\n",
      " [-2 -2 -2 -2 -2]\n",
      " [-2 -2 -2 -2 -2]\n",
      " [-2 -2 -2 -2 -2]]\n"
     ]
    }
   ],
   "source": [
    "from rk4step import rk4step\n",
    "import numpy as np\n",
    "import casadi as ca\n",
    "import random\n",
    "\n",
    "\"\"\"\n",
    "Ts = .5\n",
    "N = 19\n",
    "x0 = np.array([1, 0])\n",
    "t_grid = np.linspace(0, Ts*N, N+1)\n",
    "t_span = [0, Ts*N]\n",
    "t0 = 0\n",
    "\n",
    "\n",
    "X_rk4 = np.zeros((x0.size, N+1))\n",
    "X_rk4[:,0] = x0\n",
    "for k in range(1, len(t_grid)):\n",
    "    X_rk4[:,k] = rk4step(f, Ts,  X_rk4[:,k-1], t0).full().flatten()\n",
    "\"\"\"\n",
    "\n",
    "\n",
    "P_e = 20\n",
    "P_i = 10\n",
    "C = 50\n",
    "M = 5\n",
    "\n",
    "\n",
    "\n",
    "def L(x0, u, v):\n",
    "    x1 = f(x0, u, v)\n",
    "    return L_i(x0[0], x1[0]) + L_e(x0[0], x1[0], v)\n",
    "\n",
    "def f(x0, u, v):\n",
    "    o1 = x0[0] + u\n",
    "    v1 = v \n",
    "    return (o1, v1)\n",
    "\n",
    "def L_e(o0, o1, v):\n",
    "    if(o0 >= v and o1 >= v):\n",
    "        return 0\n",
    "    elif(o0 < v and o1 < v):\n",
    "        return 0.5*(v - o0 + v - o1) * P_e\n",
    "    else:\n",
    "        t = (v - o0)/(o1-o0)\n",
    "        if(o0 < v and o1 >= v):\n",
    "            return 0.5 * (o1 - v) * (1-t) * P_e\n",
    "        elif(o0 >= v and o1 < v):\n",
    "            return 0.5 * (o0 - v) * t * P_e \n",
    "\n",
    "def L_i(o0, o1):\n",
    "    return 0.5 * (o0 + o1) * P_i\n",
    "\n",
    "\n",
    "\"\"\"\n",
    "def V(v):\n",
    "    return v * C\n",
    "\n",
    "def O_i(k, O_i_prev, u):\n",
    "    return O_i_prev + u * k\n",
    "\n",
    "def L_i(k, O_i_prev, u):\n",
    "    return P_i * O_i(k, O_i_prev, u)\n",
    "\n",
    "def O_e(k, O_i_prev, u, v):\n",
    "    return np.max([V(v) - O_i(k, O_i_prev, u), 0])\n",
    "\n",
    "def L_e(k, O_i_prev, u, v):\n",
    "    return P_e * O_e(k, O_i_prev, u, v)\n",
    "\n",
    "# integrator wrong\n",
    "def L(x0, u, v):\n",
    "    def f(k, v):\n",
    "        k = ca.SX.sym('k')\n",
    "        return L_e(k, x0[0], u, v) + L_i(k, x0[0], u)\n",
    "\n",
    "    x = ca.SX.sym('x')\n",
    "    ode = {'x':x, 'p':v, 't':k,'ode':f}\n",
    "\n",
    "    F = ca.integrator('F', 'idas', ode,{'t0':0,'tf':1})\n",
    "    r = F(x0=0)\n",
    "    return(r['xf'])\n",
    "\"\"\"\n",
    "\n",
    "\n",
    "depth = 10\n",
    "dim_O = 5\n",
    "dim_V = 5\n",
    "\n",
    "U = [-2, -1,0,1,2]\n",
    "O_range = list(range(dim_O))\n",
    "V_range = list(range(dim_V))\n",
    "V_realisation = [4,4,4,4,4,1,0,4,2,3,3] #V_realisation = C = np.array([random.randint(min(V_range),max(V_range)) for j in range(depth+1)])\n",
    "\n",
    "def calculate_cost_to_go_matrix_sequence(V_realisation):\n",
    "    M = np.zeros((depth,dim_O,dim_V), dtype=float)\n",
    "    for i in range(depth):\n",
    "        if(i != 0):\n",
    "            M[i,:,:] = calculate_cost_to_go_matrix(V_realisation[i], M[i-1,:,:])\n",
    "        else:\n",
    "            M[0,:,:] = calculate_cost_to_go_matrix_final_step()\n",
    "\n",
    "    return M[-1,:,:]\n",
    "\n",
    "# calculate matrix with includes indexes for actions U that are optimal for given x0 in matrix\n",
    "def calculate_optimal_step_matrix(V_realisation):\n",
    "    M_cost_to_go = calculate_cost_to_go_matrix_sequence(V_realisation[1:])\n",
    "    optimal_steps = np.zeros((dim_O,dim_V), dtype=int)\n",
    "    for o_index in range(dim_O):\n",
    "        for v_index in range(dim_V):\n",
    "            step_cost_to_go_array = np.zeros(len(U), dtype=float)\n",
    "            for u_index in range(len(U)):\n",
    "                x0 = (O_range[o_index], V_range[v_index])\n",
    "                step_cost_to_go_array[u_index] = calculate_path_cost(x0, U[u_index], V_realisation[0], M_cost_to_go)\n",
    "            min_index_u = 0\n",
    "            for i in range(1, len(step_cost_to_go_array)):\n",
    "                if (step_cost_to_go_array[i] < step_cost_to_go_array[min_index_u]):\n",
    "                    min_index_u = i\n",
    "            optimal_steps[o_index, v_index] = U[min_index_u]\n",
    "    return optimal_steps\n",
    "\n",
    "    # TODO change end score\n",
    "def calculate_cost_to_go_matrix_final_step():\n",
    "    M = np.ndarray((dim_O, dim_V), dtype=float)\n",
    "    for o_index in range(dim_O):\n",
    "        for v_index in range(dim_V):\n",
    "            M[o_index,v_index] = 0 # end costs are zeros at the moment\n",
    "    return M\n",
    "\n",
    "# TODO optimieren mit list comprehension?\n",
    "def calculate_cost_to_go_matrix(v_new, M_N_plus_1):\n",
    "    M = np.ndarray((dim_O, dim_V), dtype=float)\n",
    "    for o_index in range(dim_O):\n",
    "        for v_index in range(dim_V):\n",
    "            M[o_index,v_index] = cost_to_go((O_range[o_index], V_range[v_index]), v_new, M_N_plus_1)\n",
    "    return M\n",
    "    # [[cost_to_go((o,v), U, M_N_plus_1) for o in range(dim_O)] for v in range(dim_V)]\n",
    "\n",
    "\n",
    "def cost_to_go(x0, v_new, M_N_plus_1):\n",
    "    step_cost_to_go_array = np.zeros(len(U), dtype=float)\n",
    "    for u_index in range(0,len(U)):\n",
    "        step_cost_to_go_array[u_index] = calculate_path_cost(x0, U[u_index], v_new, M_N_plus_1)\n",
    "    return np.min(step_cost_to_go_array)\n",
    "\n",
    "#TODO ERWARTUNGSWERT\n",
    "def calculate_path_cost(x0, u, v_new, M_N_plus_1):\n",
    "    if(x0[0] + u in O_range):\n",
    "        stage_cost = L(x0, u, v_new)\n",
    "        prev_cost_to_go = M_N_plus_1[f(x0, u, v_new)]\n",
    "        return stage_cost + prev_cost_to_go\n",
    "    else:\n",
    "        return np.inf\n",
    "\n",
    "opt_step = calculate_optimal_step_matrix(V_realisation)\n",
    "print(opt_step)"
   ]
  },
  {
   "cell_type": "code",
   "execution_count": 21,
   "metadata": {},
   "outputs": [],
   "source": [
    "M = np.zeros((depth,dim_O,dim_V), dtype=float)\n",
    "for i in range(depth):\n",
    "    if(i != 0):\n",
    "        M[i,:,:] = calculate_cost_to_go_matrix(V_realisation[i], M[i-1,:,:])\n",
    "    else:\n",
    "        M[0,:,:] = calculate_cost_to_go_matrix_final_step()"
   ]
  },
  {
   "cell_type": "code",
   "execution_count": 27,
   "metadata": {},
   "outputs": [
    {
     "data": {
      "text/plain": [
       "array([[7., 7., 7., 7., 7.],\n",
       "       [4., 4., 4., 4., 4.],\n",
       "       [1., 1., 1., 1., 1.],\n",
       "       [0., 0., 0., 0., 0.],\n",
       "       [0., 0., 0., 0., 0.]])"
      ]
     },
     "execution_count": 27,
     "metadata": {},
     "output_type": "execute_result"
    }
   ],
   "source": [
    "M[4,:,:]"
   ]
  },
  {
   "cell_type": "code",
   "execution_count": 41,
   "metadata": {},
   "outputs": [
    {
     "name": "stdout",
     "output_type": "stream",
     "text": [
      "301.0\n",
      "0.0\n"
     ]
    }
   ],
   "source": [
    "x0 = (3,4)\n",
    "u = 0\n",
    "v_new = 4\n",
    "M_N_plus_1 = calculate_cost_to_go_matrix_final_step()\n",
    "\n",
    "if(x0[0] + u in O_range):\n",
    "    print(L(x0, u, v_new))\n",
    "    print(M_N_plus_1[f(x0, u, v_new)])\n",
    "else:\n",
    "    print(\"out of range\")"
   ]
  },
  {
   "cell_type": "code",
   "execution_count": null,
   "metadata": {},
   "outputs": [],
   "source": []
  }
 ],
 "metadata": {
  "kernelspec": {
   "display_name": "Python 3.8.3 ('base')",
   "language": "python",
   "name": "python3"
  },
  "language_info": {
   "codemirror_mode": {
    "name": "ipython",
    "version": 3
   },
   "file_extension": ".py",
   "mimetype": "text/x-python",
   "name": "python",
   "nbconvert_exporter": "python",
   "pygments_lexer": "ipython3",
   "version": "3.8.3"
  },
  "orig_nbformat": 4,
  "vscode": {
   "interpreter": {
    "hash": "40d3a090f54c6569ab1632332b64b2c03c39dcf918b08424e98f38b5ae0af88f"
   }
  }
 },
 "nbformat": 4,
 "nbformat_minor": 2
}
