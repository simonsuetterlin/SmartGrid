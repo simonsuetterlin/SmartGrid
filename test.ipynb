{
 "cells": [
  {
   "cell_type": "code",
   "execution_count": 74,
   "metadata": {},
   "outputs": [],
   "source": [
    "from rk4step import rk4step\n",
    "import numpy as np\n",
    "import casadi as ca\n",
    "import time"
   ]
  },
  {
   "cell_type": "markdown",
   "metadata": {},
   "source": [
    "# berechne step_cost_to_go"
   ]
  },
  {
   "cell_type": "code",
   "execution_count": null,
   "metadata": {},
   "outputs": [],
   "source": [
    "M = Tiefe x O x V # matrix\n",
    "for i in range(Tiefe, 0):\n",
    "    if (i == Tiefe): #erster step\n",
    "        berechne M[Tiefe-1, :, :]\n",
    "    else:\n",
    "        berechne M[i,:,:] in abhängigkeit von M[i+1,:,:]\n",
    "\n",
    "step_cost_to_go = M[0;.,:]"
   ]
  },
  {
   "cell_type": "markdown",
   "metadata": {},
   "source": [
    "# berechne optimalen schritt"
   ]
  },
  {
   "cell_type": "code",
   "execution_count": null,
   "metadata": {},
   "outputs": [],
   "source": [
    "x0 = ...\n",
    "for u in U:\n",
    "    array += kosten_für_step(x0, u) + Erwartungswert(step_cost_to_go[f(x0,u)])\n",
    "step_u = min(array)"
   ]
  },
  {
   "cell_type": "code",
   "execution_count": null,
   "metadata": {},
   "outputs": [],
   "source": []
  },
  {
   "cell_type": "markdown",
   "metadata": {},
   "source": []
  },
  {
   "cell_type": "markdown",
   "metadata": {},
   "source": []
  },
  {
   "cell_type": "markdown",
   "metadata": {},
   "source": []
  },
  {
   "cell_type": "code",
   "execution_count": 92,
   "metadata": {},
   "outputs": [
    {
     "name": "stdout",
     "output_type": "stream",
     "text": [
      "--- 2.5333609580993652 seconds ---\n",
      "[[ 2  2  2 ...  2  2  2]\n",
      " [-1 -1 -1 ...  2  2  2]\n",
      " [-2 -2 -2 ...  2  2  2]\n",
      " ...\n",
      " [-2 -2 -2 ... -2 -2 -2]\n",
      " [-2 -2 -2 ... -2 -2 -2]\n",
      " [-2 -2 -2 ... -2 -2 -2]]\n"
     ]
    }
   ],
   "source": [
    "from rk4step import rk4step\n",
    "import numpy as np\n",
    "import casadi as ca\n",
    "\n",
    "\n",
    "P_e = 12\n",
    "P_i = 10\n",
    "C = 50\n",
    "M = 5\n",
    "\n",
    "depth = 10\n",
    "dim_O = 50\n",
    "dim_V = 50\n",
    "\n",
    "U = [-2, -1,0,1,2]\n",
    "V_change = [-2, -1, 0, 1, 2]\n",
    "O_range = list(range(dim_O))\n",
    "V_range = list(range(dim_V))\n",
    "\n",
    "\n",
    "def L(x0, u, v):\n",
    "    x1 = f(x0, u, v)\n",
    "    return L_i(x0[0], x1[0]) + L_e(x0[0], x1[0], v)\n",
    "\n",
    "def L_e(o0, o1, v):\n",
    "    if(o0 >= v and o1 >= v):\n",
    "        return 0\n",
    "    elif(o0 < v and o1 < v):\n",
    "        return 0.5*(v - o0 + v - o1) * P_e\n",
    "    else:\n",
    "        t = (v - o0)/(o1-o0)\n",
    "        if(o0 < v and o1 >= v):\n",
    "            return 0.5 * (o1 - v) * (1-t) * P_e\n",
    "        elif(o0 >= v and o1 < v):\n",
    "            return 0.5 * (o0 - v) * t * P_e \n",
    "\n",
    "def L_i(o0, o1):\n",
    "    return 0.5 * (o0 + o1) * P_i\n",
    "\n",
    "\"\"\"\n",
    "\n",
    "def V(v):\n",
    "    return v * C\n",
    "\n",
    "def O_i(k, O_i_prev, u):\n",
    "    return O_i_prev + u * k\n",
    "\n",
    "def L_i(k, O_i_prev, u):\n",
    "    return P_i * O_i(k, O_i_prev, u)\n",
    "\n",
    "def O_e(k, O_i_prev, u, v):\n",
    "    return np.max([V(v) - O_i(k, O_i_prev, u), 0])\n",
    "\n",
    "def L_e(k, O_i_prev, u, v):\n",
    "    return P_e * O_e(k, O_i_prev, u, v)\n",
    "\n",
    "# integrator wrong\n",
    "def L(x0, u, v):\n",
    "    def f(k, v):\n",
    "        k = ca.SX.sym('k')\n",
    "        return L_e(k, x0[0], u, v) + L_i(k, x0[0], u)\n",
    "\n",
    "    x = ca.SX.sym('x')\n",
    "    ode = {'x':x, 'p':v, 't':k,'ode':f}\n",
    "\n",
    "    F = ca.integrator('F', 'idas', ode,{'t0':0,'tf':1})\n",
    "    r = F(x0=0)\n",
    "    return(r['xf'])\n",
    "\"\"\"\n",
    "\n",
    "def f(x0, u, v):\n",
    "    o1 = x0[0] + u\n",
    "    v1 = x0[1] + v\n",
    "    return (o1, v1)\n",
    "\n",
    "def calculate_cost_to_go_matrix_sequence():\n",
    "    M = np.zeros((depth,dim_O,dim_V), dtype=float)\n",
    "    for i in range(depth):\n",
    "        if(i != 0):\n",
    "            M[i,:,:] = calculate_cost_to_go_matrix(M[i-1,:,:])\n",
    "        else:\n",
    "            M[0,:,:] = calculate_cost_to_go_matrix_final_step()\n",
    "\n",
    "    return M[-1,:,:]\n",
    "\n",
    "# calculate matrix with includes indexes for actions U that are optimal for given x0 in matrix\n",
    "def calculate_optimal_step_matrix():\n",
    "    M_cost_to_go = calculate_cost_to_go_matrix_sequence()\n",
    "    optimal_steps = np.zeros((dim_O,dim_V), dtype=int)\n",
    "    for o_index in range(dim_O):\n",
    "        for v_index in range(dim_V):\n",
    "            step_cost_to_go_array = np.zeros(len(U), dtype=float)\n",
    "            for u_index in range(len(U)):\n",
    "                x0 = (O_range[o_index], V_range[v_index])\n",
    "                step_cost_to_go_array[u_index] = calculate_path_cost(x0, U[u_index], M_cost_to_go)\n",
    "            min_index_u = 0\n",
    "            for i in range(1, len(step_cost_to_go_array)):\n",
    "                if (step_cost_to_go_array[i] < step_cost_to_go_array[min_index_u]):\n",
    "                    min_index_u = i\n",
    "            optimal_steps[o_index, v_index] = U[min_index_u]\n",
    "    return optimal_steps\n",
    "\n",
    "    # TODO change end score\n",
    "def calculate_cost_to_go_matrix_final_step():\n",
    "    M = np.ndarray((dim_O, dim_V), dtype=float)\n",
    "    for o_index in range(dim_O):\n",
    "        for v_index in range(dim_V):\n",
    "            M[o_index,v_index] = 0 # end costs are zeros at the moment\n",
    "    return M\n",
    "\n",
    "# TODO optimieren mit list comprehension?\n",
    "def calculate_cost_to_go_matrix(M_N_plus_1):\n",
    "    M = np.ndarray((dim_O, dim_V), dtype=float)\n",
    "    for o_index in range(dim_O):\n",
    "        for v_index in range(dim_V):\n",
    "            M[o_index,v_index] = cost_to_go((O_range[o_index], V_range[v_index]), M_N_plus_1)\n",
    "    return M\n",
    "    # [[cost_to_go((o,v), U, M_N_plus_1) for o in range(dim_O)] for v in range(dim_V)]\n",
    "\n",
    "\n",
    "def cost_to_go(x0, M_N_plus_1):\n",
    "    step_cost_to_go_array = np.zeros(len(U), dtype=float)\n",
    "    for u_index in range(0,len(U)):\n",
    "        step_cost_to_go_array[u_index] = calculate_path_cost(x0, U[u_index], M_N_plus_1)\n",
    "    return np.min(step_cost_to_go_array)\n",
    "\n",
    "#TODO ERWARTUNGSWERT\n",
    "def calculate_path_cost(x0, u, M_N_plus_1):\n",
    "    if(x0[0] + u in O_range):\n",
    "        # calculate expected value\n",
    "        sum = 0\n",
    "        num_v_in_range = 0\n",
    "        for new_v in V_change:\n",
    "            x1 = f(x0, u, new_v)\n",
    "            if (x1[1] in V_range):\n",
    "                num_v_in_range += 1\n",
    "                stage_cost = L(x0, u, x1[1])\n",
    "                prev_cost_to_go = M_N_plus_1[x1]\n",
    "                sum += stage_cost + prev_cost_to_go\n",
    "        return sum / num_v_in_range # currently uniform distribution over all V\n",
    "    else:\n",
    "        return np.inf\n",
    "\n",
    "start_time = time.time()\n",
    "opt_step = calculate_optimal_step_matrix()\n",
    "print(\"--- %s seconds ---\" % (time.time() - start_time))\n",
    "print(opt_step)"
   ]
  },
  {
   "cell_type": "code",
   "execution_count": 93,
   "metadata": {},
   "outputs": [
    {
     "name": "stdout",
     "output_type": "stream",
     "text": [
      "--- 1.57659912109375 seconds ---\n"
     ]
    }
   ],
   "source": [
    "start_time = time.time()\n",
    "M = np.ndarray((dim_O, dim_V), dtype=float)\n",
    "for o_index in range(dim_O):\n",
    "    for v_index in range(dim_V):\n",
    "        M[o_index,v_index] = cost_to_go((O_range[o_index], V_range[v_index]), calculate_cost_to_go_matrix_final_step())\n",
    "print(\"--- %s seconds ---\" % (time.time() - start_time))"
   ]
  },
  {
   "cell_type": "code",
   "execution_count": 95,
   "metadata": {},
   "outputs": [
    {
     "ename": "ValueError",
     "evalue": "maximum supported dimension for an ndarray is 32, found 2500",
     "output_type": "error",
     "traceback": [
      "\u001b[0;31m---------------------------------------------------------------------------\u001b[0m",
      "\u001b[0;31mValueError\u001b[0m                                Traceback (most recent call last)",
      "\u001b[0;32m/var/folders/tg/mc3m1mgs7yn6nbwlr7tzqxt80000gn/T/ipykernel_82279/1745091319.py\u001b[0m in \u001b[0;36m<cell line: 2>\u001b[0;34m()\u001b[0m\n\u001b[1;32m      1\u001b[0m \u001b[0mstart_time\u001b[0m \u001b[0;34m=\u001b[0m \u001b[0mtime\u001b[0m\u001b[0;34m.\u001b[0m\u001b[0mtime\u001b[0m\u001b[0;34m(\u001b[0m\u001b[0;34m)\u001b[0m\u001b[0;34m\u001b[0m\u001b[0;34m\u001b[0m\u001b[0m\n\u001b[0;32m----> 2\u001b[0;31m \u001b[0mM\u001b[0m \u001b[0;34m=\u001b[0m \u001b[0mnp\u001b[0m\u001b[0;34m.\u001b[0m\u001b[0mndarray\u001b[0m\u001b[0;34m(\u001b[0m\u001b[0;34m[\u001b[0m\u001b[0mcost_to_go\u001b[0m\u001b[0;34m(\u001b[0m\u001b[0;34m(\u001b[0m\u001b[0mO_range\u001b[0m\u001b[0;34m[\u001b[0m\u001b[0mo_index\u001b[0m\u001b[0;34m]\u001b[0m\u001b[0;34m,\u001b[0m \u001b[0mV_range\u001b[0m\u001b[0;34m[\u001b[0m\u001b[0mv_index\u001b[0m\u001b[0;34m]\u001b[0m\u001b[0;34m)\u001b[0m\u001b[0;34m,\u001b[0m \u001b[0mcalculate_cost_to_go_matrix_final_step\u001b[0m\u001b[0;34m(\u001b[0m\u001b[0;34m)\u001b[0m\u001b[0;34m)\u001b[0m \u001b[0;32mfor\u001b[0m \u001b[0mo_index\u001b[0m \u001b[0;32min\u001b[0m \u001b[0mrange\u001b[0m\u001b[0;34m(\u001b[0m\u001b[0mdim_O\u001b[0m\u001b[0;34m)\u001b[0m \u001b[0;32mfor\u001b[0m \u001b[0mv_index\u001b[0m \u001b[0;32min\u001b[0m \u001b[0mrange\u001b[0m\u001b[0;34m(\u001b[0m\u001b[0mdim_V\u001b[0m\u001b[0;34m)\u001b[0m\u001b[0;34m]\u001b[0m\u001b[0;34m)\u001b[0m\u001b[0;34m\u001b[0m\u001b[0;34m\u001b[0m\u001b[0m\n\u001b[0m\u001b[1;32m      3\u001b[0m \u001b[0mprint\u001b[0m\u001b[0;34m(\u001b[0m\u001b[0;34m\"--- %s seconds ---\"\u001b[0m \u001b[0;34m%\u001b[0m \u001b[0;34m(\u001b[0m\u001b[0mtime\u001b[0m\u001b[0;34m.\u001b[0m\u001b[0mtime\u001b[0m\u001b[0;34m(\u001b[0m\u001b[0;34m)\u001b[0m \u001b[0;34m-\u001b[0m \u001b[0mstart_time\u001b[0m\u001b[0;34m)\u001b[0m\u001b[0;34m)\u001b[0m\u001b[0;34m\u001b[0m\u001b[0;34m\u001b[0m\u001b[0m\n",
      "\u001b[0;31mValueError\u001b[0m: maximum supported dimension for an ndarray is 32, found 2500"
     ]
    }
   ],
   "source": [
    "start_time = time.time()\n",
    "\n",
    "M = np.ndarray(o_index, v_index) for o_index in range(dim_O) for v_index in range(dim_V)])\n",
    "print(\"--- %s seconds ---\" % (time.time() - start_time))"
   ]
  },
  {
   "cell_type": "code",
   "execution_count": 107,
   "metadata": {},
   "outputs": [
    {
     "ename": "ValueError",
     "evalue": "setting an array element with a sequence.",
     "output_type": "error",
     "traceback": [
      "\u001b[0;31m---------------------------------------------------------------------------\u001b[0m",
      "\u001b[0;31mTypeError\u001b[0m                                 Traceback (most recent call last)",
      "\u001b[0;31mTypeError\u001b[0m: int() argument must be a string, a bytes-like object or a number, not 'tuple'",
      "\nThe above exception was the direct cause of the following exception:\n",
      "\u001b[0;31mValueError\u001b[0m                                Traceback (most recent call last)",
      "\u001b[0;32m/var/folders/tg/mc3m1mgs7yn6nbwlr7tzqxt80000gn/T/ipykernel_82279/780984162.py\u001b[0m in \u001b[0;36m<cell line: 1>\u001b[0;34m()\u001b[0m\n\u001b[0;32m----> 1\u001b[0;31m \u001b[0mnp\u001b[0m\u001b[0;34m.\u001b[0m\u001b[0mfromiter\u001b[0m\u001b[0;34m(\u001b[0m\u001b[0;34m(\u001b[0m\u001b[0;34m(\u001b[0m\u001b[0ma\u001b[0m\u001b[0;34m,\u001b[0m\u001b[0mb\u001b[0m\u001b[0;34m)\u001b[0m \u001b[0;32mfor\u001b[0m \u001b[0mb\u001b[0m \u001b[0;32min\u001b[0m \u001b[0mrange\u001b[0m\u001b[0;34m(\u001b[0m\u001b[0;36m6\u001b[0m\u001b[0;34m)\u001b[0m \u001b[0;32mfor\u001b[0m \u001b[0ma\u001b[0m \u001b[0;32min\u001b[0m \u001b[0mrange\u001b[0m\u001b[0;34m(\u001b[0m\u001b[0;36m5\u001b[0m\u001b[0;34m)\u001b[0m\u001b[0;34m)\u001b[0m\u001b[0;34m,\u001b[0m \u001b[0mdtype\u001b[0m\u001b[0;34m=\u001b[0m\u001b[0mint\u001b[0m\u001b[0;34m)\u001b[0m\u001b[0;34m\u001b[0m\u001b[0;34m\u001b[0m\u001b[0m\n\u001b[0m",
      "\u001b[0;31mValueError\u001b[0m: setting an array element with a sequence."
     ]
    }
   ],
   "source": [
    "np.fromiter(((a,b) for b in range(6) for a in range(5)), dtype=int)"
   ]
  },
  {
   "cell_type": "code",
   "execution_count": null,
   "metadata": {},
   "outputs": [],
   "source": []
  }
 ],
 "metadata": {
  "kernelspec": {
   "display_name": "Python 3",
   "language": "python",
   "name": "python3"
  },
  "language_info": {
   "codemirror_mode": {
    "name": "ipython",
    "version": 3
   },
   "file_extension": ".py",
   "mimetype": "text/x-python",
   "name": "python",
   "nbconvert_exporter": "python",
   "pygments_lexer": "ipython3",
   "version": "3.9.0"
  },
  "vscode": {
   "interpreter": {
    "hash": "40d3a090f54c6569ab1632332b64b2c03c39dcf918b08424e98f38b5ae0af88f"
   }
  }
 },
 "nbformat": 4,
 "nbformat_minor": 4
}
